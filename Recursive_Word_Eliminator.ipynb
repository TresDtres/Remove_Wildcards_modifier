{
 "cells": [
  {
   "cell_type": "code",
   "execution_count": 2,
   "id": "89dd0b88",
   "metadata": {},
   "outputs": [
    {
     "name": "stdout",
     "output_type": "stream",
     "text": [
      "Running on local URL:  http://127.0.0.1:7870\n",
      "\n",
      "To create a public link, set `share=True` in `launch()`.\n"
     ]
    },
    {
     "data": {
      "text/html": [
       "<div><iframe src=\"http://127.0.0.1:7870/\" width=\"100%\" height=\"500\" allow=\"autoplay; camera; microphone; clipboard-read; clipboard-write;\" frameborder=\"0\" allowfullscreen></iframe></div>"
      ],
      "text/plain": [
       "<IPython.core.display.HTML object>"
      ]
     },
     "metadata": {},
     "output_type": "display_data"
    }
   ],
   "source": [
    "import gradio as gr\n",
    "# from gradio.components import FilePicker, Textbox\n",
    "\n",
    "def eliminar_palabras_recursivas(archivo, palabras, ruta_guardado):\n",
    "    with open(archivo.name, 'r') as f:\n",
    "        lines = f.readlines()\n",
    "\n",
    "    with open(ruta_guardado, 'w') as f:\n",
    "        for line in lines:\n",
    "            line = line.strip()\n",
    "            palabras_linea = line.split(', ')\n",
    "            palabras_filtradas = [palabra for palabra in palabras_linea if palabra not in palabras]\n",
    "            line_modificada = ', '.join(palabras_filtradas)\n",
    "            f.write(line_modificada + '\\n')\n",
    "\n",
    "def interfaz():\n",
    "    archivo = gr.File(label=\"input file\")\n",
    "    palabras = gr.Textbox(label=\"Words to remove (separated by commas)\")\n",
    "    ruta_guardado = gr.Textbox(label=\"Save Path\")\n",
    "    boton = gr.Button(label=\"Remove recursive words")\",
    "    gr.Interface(fn=eliminar_palabras_recursivas, inputs=[archivo, palabras, ruta_guardado], outputs=None, title=\"Recursive Word Eliminator\").launch()\n",
    "\n",
    "interfaz()\n"
   ]
  },
  {
   "cell_type": "code",
   "execution_count": null,
   "id": "9180e5ae",
   "metadata": {},
   "outputs": [],
   "source": []
  }
 ],
 "metadata": {
  "kernelspec": {
   "display_name": "Python 3 (ipykernel)",
   "language": "python",
   "name": "python3"
  },
  "language_info": {
   "codemirror_mode": {
    "name": "ipython",
    "version": 3
   },
   "file_extension": ".py",
   "mimetype": "text/x-python",
   "name": "python",
   "nbconvert_exporter": "python",
   "pygments_lexer": "ipython3",
   "version": "3.10.9"
  }
 },
 "nbformat": 4,
 "nbformat_minor": 5
}
